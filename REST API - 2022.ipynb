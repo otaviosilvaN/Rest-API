{
 "cells": [
  {
   "cell_type": "markdown",
   "metadata": {},
   "source": [
    "### Consumir dados de uma API"
   ]
  },
  {
   "cell_type": "code",
   "execution_count": 1,
   "metadata": {},
   "outputs": [
    {
     "name": "stdout",
     "output_type": "stream",
     "text": [
      "<Response [200]>\n"
     ]
    }
   ],
   "source": [
    "import requests\n",
    "# link = 'https://economia.awesomeapi.com.br/last/USD-BRL,EUR-BRL,BTC-BRL'\n",
    "link = 'https://cep.awesomeapi.com.br/json/32404602'\n",
    "requisicao = requests.get(link)\n",
    "\n",
    "print(requisicao)"
   ]
  },
  {
   "cell_type": "code",
   "execution_count": 2,
   "metadata": {},
   "outputs": [
    {
     "name": "stdout",
     "output_type": "stream",
     "text": [
      "{'cep': '32404602', 'address_type': 'Rua', 'address_name': 'Bela Vista', 'address': 'Rua Bela Vista', 'state': 'MG', 'district': 'Parque Elizabeth', 'lat': '-20.01279', 'lng': '-44.04225', 'city': 'Ibirité', 'city_ibge': '3129806', 'ddd': '31'}\n"
     ]
    }
   ],
   "source": [
    "print(requisicao.json())"
   ]
  },
  {
   "cell_type": "markdown",
   "metadata": {},
   "source": [
    "### Criar uma API com o Flask\n",
    "\n",
    "Criação de uma API é como a criação de um site, ou melhor, microsite (microsserviços)\n",
    "\n",
    "Flask é uma ferramenta de microsserviços do Python"
   ]
  },
  {
   "cell_type": "code",
   "execution_count": null,
   "metadata": {},
   "outputs": [],
   "source": [
    "from flask import Flask\n",
    "from flask import Flask\n",
    "import pandas as pd\n",
    "\n",
    "table = pd.read_excel('Vendas - Dez.xlsx')\n",
    "app = Flask(__name__)\n",
    "\n",
    "@app.route(\"/\") #decorator , Diz em qual link a função vai rodar\n",
    "def fat(): #function\n",
    "    faturamento = float(table['Valor Final'].sum()) # transformando em um número, não em tabela\n",
    "    return {'faturamento': faturamento}\n",
    "  \n",
    "# faturamento por produto\n",
    "@app.route(\"/vendas/produtos\") \n",
    "def vendas_produtos():\n",
    "    vendas_produtos_tab = table[[\"Produto\", \"Valor Final\"]].groupby(\"Produto\").sum()\n",
    "    dic_vendas_produtos = vendas_produtos_tab.to_dict()\n",
    "    return dic_vendas_produtos\n",
    "\n",
    "@app.route(\"/vendas/produtos/<produto>\") \n",
    "def fat_produto(produto):\n",
    "    vendas_produtos_tab = table[[\"Produto\", \"Valor Final\"]].groupby(\"Produto\").sum()\n",
    "    if produto in vendas_produtos_tab.index:\n",
    "        vendas_produto = vendas_produtos_tab.loc[produto]\n",
    "        dic_vendas_produto = vendas_produto.to_dict()\n",
    "        return dic_vendas_produto\n",
    "    else:\n",
    "        return {produto: \"Inexistente\"}\n",
    "    \n",
    "\n",
    "app.run(host=\"0.0.0.0\") # Coloca o site no ar"
   ]
  },
  {
   "cell_type": "markdown",
   "metadata": {},
   "source": [
    "### Chamando a requisição feita com a restAPI no replit"
   ]
  },
  {
   "cell_type": "code",
   "execution_count": 6,
   "metadata": {},
   "outputs": [
    {
     "name": "stdout",
     "output_type": "stream",
     "text": [
      "<Response [200]>\n"
     ]
    }
   ],
   "source": [
    "import requests\n",
    "link_API = 'https://restapi.otavioluiz3.repl.co/vendas/produtos'\n",
    "requisicao = requests.get(link_API)\n",
    "\n",
    "print(requisicao)"
   ]
  },
  {
   "cell_type": "code",
   "execution_count": 7,
   "metadata": {},
   "outputs": [
    {
     "name": "stdout",
     "output_type": "stream",
     "text": [
      "{'Valor Final': {'Bermuda': 18450, 'Bermuda Estampa': 18590, 'Bermuda Linho': 25545, 'Bermuda Liso': 18683, 'Bermuda Listrado': 20212, 'Bermuda Xadrez': 20770, 'Calça': 23120, 'Calça Estampa': 21240, 'Calça Linho': 27008, 'Calça Liso': 29830, 'Calça Listrado': 22806, 'Calça Xadrez': 15355, 'Camisa': 14600, 'Camisa Estampa': 19549, 'Camisa Gola V': 11100, 'Camisa Gola V Estampa': 17582, 'Camisa Gola V Linho': 17110, 'Camisa Gola V Liso': 18644, 'Camisa Gola V Listrado': 11832, 'Camisa Gola V Xadrez': 13910, 'Camisa Linho': 21432, 'Camisa Liso': 16380, 'Camisa Listrado': 15120, 'Camisa Xadrez': 13440, 'Camiseta': 27900, 'Camiseta Estampa': 26068, 'Camiseta Linho': 26091, 'Camiseta Liso': 26180, 'Camiseta Listrado': 23640, 'Camiseta Xadrez': 31800, 'Casaco': 32250, 'Casaco Estampa': 35328, 'Casaco Linho': 36478, 'Casaco Liso': 34680, 'Casaco Listrado': 31473, 'Casaco Xadrez': 29267, 'Chinelo': 6240, 'Chinelo Estampa': 8732, 'Chinelo Linho': 10710, 'Chinelo Liso': 9940, 'Chinelo Listrado': 7592, 'Chinelo Xadrez': 8844, 'Cinto': 22800, 'Cinto Estampa': 21527, 'Cinto Linho': 34472, 'Cinto Liso': 22781, 'Cinto Listrado': 26964, 'Cinto Xadrez': 23650, 'Cueca': 7350, 'Cueca Estampa': 8844, 'Cueca Linho': 10230, 'Cueca Liso': 8280, 'Cueca Listrado': 8844, 'Cueca Xadrez': 8160, 'Gorro': 8720, 'Gorro Estampa': 11532, 'Gorro Linho': 12152, 'Gorro Liso': 12420, 'Gorro Listrado': 14744, 'Gorro Xadrez': 11730, 'Meia': 3360, 'Meia Estampa': 6250, 'Meia Linho': 8112, 'Meia Liso': 5852, 'Meia Listrado': 3811, 'Meia Xadrez': 4469, 'Mochila': 39150, 'Mochila Estampa': 34625, 'Mochila Linho': 45717, 'Mochila Liso': 40020, 'Mochila Listrado': 22275, 'Mochila Xadrez': 41035, 'Polo': 19760, 'Polo Estampa': 20562, 'Polo Linho': 28688, 'Polo Liso': 18495, 'Polo Listrado': 16688, 'Polo Xadrez': 19170, 'Pulseira': 6020, 'Pulseira Estampa': 11658, 'Pulseira Linho': 15162, 'Pulseira Liso': 9048, 'Pulseira Listrado': 12403, 'Pulseira Xadrez': 10701, 'Relógio': 25200, 'Relógio Estampa': 25185, 'Relógio Linho': 29520, 'Relógio Liso': 24192, 'Relógio Listrado': 33354, 'Relógio Xadrez': 31458, 'Sapato': 36400, 'Sapato Estampa': 44392, 'Sapato Linho': 59823, 'Sapato Liso': 54832, 'Sapato Listrado': 45738, 'Sapato Xadrez': 41952, 'Short': 8730, 'Short Estampa': 12864, 'Short Linho': 15827, 'Short Liso': 13608, 'Short Listrado': 12036, 'Short Xadrez': 12100, 'Sunga': 12300, 'Sunga Estampa': 18720, 'Sunga Linho': 18327, 'Sunga Liso': 13110, 'Sunga Listrado': 13566, 'Sunga Xadrez': 17864, 'Terno': 82600, 'Terno Estampa': 101664, 'Terno Linho': 102750, 'Terno Liso': 79920, 'Terno Listrado': 92879, 'Terno Xadrez': 70900, 'Tênis': 25250, 'Tênis Estampa': 32000, 'Tênis Linho': 34986, 'Tênis Liso': 34048, 'Tênis Listrado': 25938, 'Tênis Xadrez': 29526}}\n"
     ]
    }
   ],
   "source": [
    "print(requisicao.json())"
   ]
  },
  {
   "cell_type": "markdown",
   "metadata": {},
   "source": [
    "#### Pesquisando por produto específico"
   ]
  },
  {
   "cell_type": "code",
   "execution_count": 11,
   "metadata": {},
   "outputs": [
    {
     "name": "stdout",
     "output_type": "stream",
     "text": [
      "{'Valor Final': 92879}\n"
     ]
    }
   ],
   "source": [
    "api= 'https://restapi.otavioluiz3.repl.co/vendas/produtos/Terno Listrado'\n",
    "requisicao = requests.get(api)\n",
    "\n",
    "print(requisicao.json())"
   ]
  }
 ],
 "metadata": {
  "kernelspec": {
   "display_name": "Python 3",
   "language": "python",
   "name": "python3"
  },
  "language_info": {
   "codemirror_mode": {
    "name": "ipython",
    "version": 3
   },
   "file_extension": ".py",
   "mimetype": "text/x-python",
   "name": "python",
   "nbconvert_exporter": "python",
   "pygments_lexer": "ipython3",
   "version": "3.8.5"
  }
 },
 "nbformat": 4,
 "nbformat_minor": 4
}
